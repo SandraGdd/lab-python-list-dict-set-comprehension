{
 "cells": [
  {
   "cell_type": "markdown",
   "id": "25d7736c-ba17-4aff-b6bb-66eba20fbf4e",
   "metadata": {},
   "source": [
    "# Lab | List, Dict and Set Comprehension"
   ]
  },
  {
   "cell_type": "markdown",
   "id": "7dd3cbde-675a-4b81-92c3-f728846dbe06",
   "metadata": {},
   "source": [
    "## Exercise: Managing Customer Orders Optimized with Comprehension"
   ]
  },
  {
   "cell_type": "markdown",
   "id": "5d500160-2fb7-4777-b5e4-09d45ebaf328",
   "metadata": {},
   "source": [
    "In the previous exercise, you developed a program to manage customer orders and inventory. Now, let's take it a step further and incorporate comprehension into your code.\n",
    "\n",
    "Follow the steps below to complete the exercise:\n",
    "\n",
    "1. Review your code from the previous exercise and identify areas where you can apply comprehension to simplify and streamline your code. \n",
    "\n",
    "    - *Hint: Apply it to initialize inventory, updating the inventory and printing the updated inventory.*\n",
    "    \n",
    "    - For example, in initializing the inventory, we could have:\n",
    "    \n",
    "        ```python\n",
    "        def initialize_inventory(products):\n",
    "            inventory = {product: int(input(f\"Enter the quantity of {product}s available: \")) for product in products}\n",
    "            return inventory\n",
    "\n",
    "        ```\n",
    "<br>\n",
    "    \n",
    "    \n",
    "2. Modify the function get_customer_orders so it prompts the user to enter the number of customer orders and gathers the product names using a loop and user input. Use comprehension.\n",
    "\n",
    "3. Add a new function to calculate the total price of the customer order. For each product in customer_orders, prompt the user to enter the price of that product. Use comprehension to calculate the total price. Note: assume that the user can only have 1 unit of each product.\n",
    "\n",
    "4. Modify the update_inventory function to remove the product from the inventory if its quantity becomes zero after fulfilling the customer orders. Use comprehension to filter out the products with a quantity of zero from the inventory.\n",
    "\n",
    "5. Print the total price of the customer order.\n",
    "\n",
    "Your code should produce output similar to the following:\n",
    "\n",
    "```python\n",
    "Enter the quantity of t-shirts available:  5\n",
    "Enter the quantity of mugs available:  4\n",
    "Enter the quantity of hats available:  3\n",
    "Enter the quantity of books available:  2\n",
    "Enter the quantity of keychains available:  1\n",
    "Enter the number of customer orders:  2\n",
    "Enter the name of a product that a customer wants to order:  hat\n",
    "Enter the name of a product that a customer wants to order:  keychain\n",
    "\n",
    "Order Statistics:\n",
    "Total Products Ordered: 2\n",
    "Percentage of Unique Products Ordered: 40.0\n",
    "\n",
    "Updated Inventory:\n",
    "t-shirt: 5\n",
    "mug: 4\n",
    "hat: 2\n",
    "book: 2\n",
    "Enter the price of keychain:  5\n",
    "Enter the price of hat:  10\n",
    "Total Price: 15.0\n",
    "\n",
    "```\n"
   ]
  },
  {
   "cell_type": "code",
   "execution_count": 84,
   "id": "3fd68b9c-ed73-4232-99f8-a94824220640",
   "metadata": {},
   "outputs": [
    {
     "name": "stdin",
     "output_type": "stream",
     "text": [
      "Enter the quantity of t-shirts available:  20\n",
      "Enter the quantity of mugs available:  22\n",
      "Enter the quantity of hats available:  1\n",
      "Enter the quantity of books available:  2\n",
      "Enter the quantity of keychains available:  3\n"
     ]
    }
   ],
   "source": [
    "# 1.  \n",
    "products = [\"t-shirt\", \"mug\", \"hat\", \"book\", \"keychain\"] \n",
    "def initialize_inventory(products):\n",
    "    inventory = {product: int(input(f\"Enter the quantity of {product}s available: \")) for product in products}\n",
    "    return inventory\n",
    "inventory = initialize_inventory(products)"
   ]
  },
  {
   "cell_type": "code",
   "execution_count": 85,
   "id": "987413ac-b3b2-4895-a21c-39348dfc2419",
   "metadata": {},
   "outputs": [
    {
     "name": "stdin",
     "output_type": "stream",
     "text": [
      "Do you want to add another product?  yes\n",
      "Enter the name of a product you want to order:  hat\n",
      "Do you want to add another product?  yes\n",
      "Enter the name of a product you want to order:  hat\n",
      "Do you want to add another product?  yes\n",
      "Enter the name of a product you want to order:  book\n",
      "Do you want to add another product?  no\n"
     ]
    },
    {
     "name": "stdout",
     "output_type": "stream",
     "text": [
      "Customer orders: {'book', 'hat'}\n"
     ]
    }
   ],
   "source": [
    "# 2. Modify the function get_customer_orders so it prompts the user to enter the number of customer orders and gathers the product names using a loop and user input. Use comprehension.\n",
    "\"\"\"def get_customer_orders(): \n",
    " customer_orders = set() \n",
    " add_another = 'yes' \n",
    " while add_another == 'yes': \n",
    " product_name = input(\"Enter the name of a product that a customer wants to order: \") \n",
    " customer_orders.add(product_name) \n",
    " add_another = input(\"Do you want to add another product? (yes/no): \") \n",
    " return customer_orders\"\"\"\n",
    "\n",
    "def get_customer_orders(): \n",
    "    customer_orders = set() \n",
    "    while input(\"Do you want to add another product? \") == 'yes':\n",
    "        product_name = input(\"Enter the name of a product you want to order: \") \n",
    "        customer_orders.add(product_name) \n",
    "    return customer_orders\n",
    "    \n",
    "orders = get_customer_orders()\n",
    "print(f\"Customer orders: {orders}\")\n",
    "\n",
    "\"\"\"corrected: \n",
    "def get_customer_orders():\n",
    "    num_orders = int(input(\"Enter the number of customer orders: \"))\n",
    "    return {input(\"Enter the name of a product that a customer wants to order: \") for _ in range(num_orders)}\n",
    "\n",
    "orders = get_customer_orders()\n",
    "print(f\"Customer orders: {orders}\")\"\"\"\n"
   ]
  },
  {
   "cell_type": "code",
   "execution_count": 86,
   "id": "fe825eb5-d652-4828-a5cd-51be886950b3",
   "metadata": {},
   "outputs": [],
   "source": [
    "# 3. Add a new function to calculate the total price of the customer order. For each product in customer_orders, prompt the user to enter the price of that product. Use comprehension to calculate the total price. Note: assume that the user can only have 1 unit of each product.\n",
    "\n",
    "def calculate_total_price(orders):\n",
    "    total_price = sum([float(input(f\"Please enter the price for {product}: \")) for product in orders])\n",
    "    return total_price"
   ]
  },
  {
   "cell_type": "code",
   "execution_count": 87,
   "id": "52b5a934-d422-4446-ac85-6dacda9d4d28",
   "metadata": {},
   "outputs": [
    {
     "name": "stdin",
     "output_type": "stream",
     "text": [
      "Please enter the price for book:  10\n",
      "Please enter the price for hat:  12\n"
     ]
    }
   ],
   "source": [
    "price = calculate_total_price(orders)"
   ]
  },
  {
   "cell_type": "code",
   "execution_count": 88,
   "id": "6d2529ca-6ee2-43ef-beec-088363eca855",
   "metadata": {},
   "outputs": [
    {
     "name": "stdout",
     "output_type": "stream",
     "text": [
      "Please pay 22.0 Euros\n"
     ]
    }
   ],
   "source": [
    "print(f\"Please pay {price} Euros\")"
   ]
  },
  {
   "cell_type": "code",
   "execution_count": 3,
   "id": "38a07588-24ee-42a8-83d5-d91ab6ac2fa6",
   "metadata": {},
   "outputs": [
    {
     "ename": "NameError",
     "evalue": "name 'orders' is not defined",
     "output_type": "error",
     "traceback": [
      "\u001b[0;31m---------------------------------------------------------------------------\u001b[0m",
      "\u001b[0;31mNameError\u001b[0m                                 Traceback (most recent call last)",
      "Cell \u001b[0;32mIn[3], line 23\u001b[0m\n\u001b[1;32m     14\u001b[0m \u001b[38;5;66;03m#3 if inventory[p} ==0:del inventory[p] (nor for updating)\u001b[39;00m\n\u001b[1;32m     15\u001b[0m     \n\u001b[1;32m     16\u001b[0m \u001b[38;5;66;03m# nur Produkte in neues Dictionary: deren Bestand nach Reduzierung durch orders größer als 0 ist oder deren Bestand nicht verändert werden muss. Weil nicht in orders\u001b[39;00m\n\u001b[1;32m     18\u001b[0m \u001b[38;5;124;03m\"\"\"def update_inventory(orders, inventory):\u001b[39;00m\n\u001b[1;32m     19\u001b[0m \u001b[38;5;124;03m    inventory = {p: inventory[p] - 1 if product in orders and inventory[] > 0 else inventory[] for product in inventory}\u001b[39;00m\n\u001b[1;32m     20\u001b[0m \u001b[38;5;124;03m    inventory = {p: quantity for p, quantity in inventory.items() if quantity > 0}\u001b[39;00m\n\u001b[1;32m     21\u001b[0m \u001b[38;5;124;03m    return inventory\"\"\"\u001b[39;00m\n\u001b[0;32m---> 23\u001b[0m updated_inventory \u001b[38;5;241m=\u001b[39m update_inventory(orders, inventory)\n\u001b[1;32m     25\u001b[0m \u001b[38;5;28mprint\u001b[39m(\u001b[38;5;124mf\u001b[39m\u001b[38;5;124m\"\u001b[39m\u001b[38;5;124mThe updated inventory is: \u001b[39m\u001b[38;5;132;01m{\u001b[39;00mupdated_inventory\u001b[38;5;132;01m}\u001b[39;00m\u001b[38;5;124m\"\u001b[39m)\n",
      "\u001b[0;31mNameError\u001b[0m: name 'orders' is not defined"
     ]
    }
   ],
   "source": [
    "# 4. Modify the update_inventory function to remove the product from the inventory if its quantity becomes zero after fulfilling the customer orders. Use comprehension to filter out the products with a quantity of zero from the inventory.\n",
    "\n",
    "\"\"\"def update_inventory (orders, inventory):\n",
    "    for p in orders:\n",
    "        if p in inventory:\n",
    "            inventory[p] = inventory[p] -1\n",
    "    return inventory\n",
    "inventory = update_inventory(orders, inventory)\"\"\"\n",
    "\n",
    "def update_inventory(orders, inventory):\n",
    "    updated_inventory = {p: inventory[p] - 1 for p in inventory if (inventory[p] - 1 > 0 and p in orders) or p not in orders}\n",
    "    return updated_inventory     \n",
    "\n",
    "#3 if inventory[p} ==0:del inventory[p] (nor for updating)\n",
    "    \n",
    "# nur Produkte in neues Dictionary: deren Bestand nach Reduzierung durch orders größer als 0 ist oder deren Bestand nicht verändert werden muss. Weil nicht in orders\n",
    "\n",
    "\"\"\"def update_inventory(orders, inventory):\n",
    "    inventory = {p: inventory[p] - 1 if product in orders and inventory[] > 0 else inventory[] for product in inventory}\n",
    "    inventory = {p: quantity for p, quantity in inventory.items() if quantity > 0}\n",
    "    return inventory\"\"\"\n",
    "\n",
    "updated_inventory = update_inventory(orders, inventory)\n",
    "\n",
    "print(f\"The updated inventory is: {updated_inventory}\") "
   ]
  },
  {
   "cell_type": "code",
   "execution_count": 115,
   "id": "0291a6fd-4e7d-4c53-8278-ea5c4bf89b3c",
   "metadata": {},
   "outputs": [
    {
     "name": "stdout",
     "output_type": "stream",
     "text": [
      "The total price of your orders is 22.0!\n"
     ]
    }
   ],
   "source": [
    "# 5. Print the total price of the customer order.\n",
    "print(f\"The total price of your orders is {price}!\")"
   ]
  }
 ],
 "metadata": {
  "kernelspec": {
   "display_name": "Python 3 (ipykernel)",
   "language": "python",
   "name": "python3"
  },
  "language_info": {
   "codemirror_mode": {
    "name": "ipython",
    "version": 3
   },
   "file_extension": ".py",
   "mimetype": "text/x-python",
   "name": "python",
   "nbconvert_exporter": "python",
   "pygments_lexer": "ipython3",
   "version": "3.12.4"
  }
 },
 "nbformat": 4,
 "nbformat_minor": 5
}
